{
 "cells": [
  {
   "cell_type": "code",
   "execution_count": 6,
   "metadata": {},
   "outputs": [],
   "source": [
    "# predefinitions\n",
    "import pandas as pd\n",
    "directory=\"altman z_all(sheet1-2).xlsx\"\n",
    "fail_condition = 1.8 #must be equal or below this number\n",
    "naValues=[\"#N/A N/A\", \"#N/A Review\"]"
   ]
  },
  {
   "cell_type": "code",
   "execution_count": 11,
   "metadata": {},
   "outputs": [],
   "source": [
    "def getCompanyHistory(filename, sheet, skipRows, naValues=None):\n",
    "    \"\"\"\n",
    "    Generates a Data Frame from a table of altman z values of companies\n",
    "    \n",
    "    :param filename: an Excel file (.xlsx) containing a table of companies and\n",
    "                    their altmen z values according to dates\n",
    "    :type filename: str\n",
    "    :param sheet: Name of the sheet to extract from the file\n",
    "    :type sheet: str\n",
    "    :param skipRows: a list of indexes, indicating which rows to skip from the\n",
    "                    top of the file\n",
    "    :type skipRows: list of int >= 0\n",
    "    :param naValues: values in the given table that are to be considered \"NaN\"\n",
    "    :type naValues: scalar, str, list-like, or dict, default None\n",
    "    \n",
    "    :returns: A Data Frame containing altman z values of companies\n",
    "    :rtype: pandas.DataFrame\n",
    "    \n",
    "    Example:\n",
    "    >> getCompanyHistory(\"altman z_all(sheet1-2).xlsx\",\"Sheet1\", [0,1,2,4,5],\n",
    "                             [\"#N/A N/A\", \"#N/A Review\"])\n",
    "    \"\"\"\n",
    "    # extracting data\n",
    "    cols = pd.read_excel(filename, encoding=\"latin-1\", skiprows = skipRows,\n",
    "                         na_values = naValues, sheet_name = sheet,\n",
    "                         header=None, nrows=1, index_col = 0).values[0]\n",
    "    data = pd.read_excel(filename, encoding=\"latin-1\",\n",
    "                           skiprows = skipRows, na_values = naValues,\n",
    "                           sheet_name = sheet, index_col = 0)\n",
    "    \n",
    "    # modificatons on the extracted data\n",
    "    data.columns = cols # rename columns\n",
    "    data=data.dropna(axis=1,how=\"all\") # drop columns with no values\n",
    "    return data.loc[:,~data.columns.duplicated()] # drop duplicated columns"
   ]
  },
  {
   "cell_type": "code",
   "execution_count": 12,
   "metadata": {},
   "outputs": [],
   "source": [
    "def weedSuccessful(dataFrame, failCond):\n",
    "    \"\"\"\n",
    "    Weeds out companies that are considered not to have \"failed\" in the past\n",
    "    from a given data frame of companies and their altman z values throughout\n",
    "    the years\n",
    "    \n",
    "    :param dataFrame: \n",
    "    \n",
    "    :param failcond: a company which has ever had an altman z value less than\n",
    "                    or equal to this number will be considered to have \"failed\"\n",
    "                    in the past\n",
    "    :type failcond: float\n",
    "    \n",
    "    :returns: A Data Frame containing altman z values of  companies that have\n",
    "                \"failed\" in the past\n",
    "    :rtype: pandas.DataFrame\n",
    "    \"\"\"\n",
    "    # weeding out companies that don't fail\n",
    "    data_lower = dataFrame.where(dataFrame<=failCond)\n",
    "    data_lower = data_lower.dropna(axis=1,how=\"all\")\n",
    "    columns_to_keep=list(data_lower.columns)\n",
    "    return dataFrame.filter(columns_to_keep,axis=1)"
   ]
  },
  {
   "cell_type": "code",
   "execution_count": 13,
   "metadata": {},
   "outputs": [],
   "source": [
    "def getCompanyFailHistory(filename, sheet, failCond, skipRows, naValues=None):\n",
    "    \"\"\"\n",
    "    Generates a Data Frame from a table of altman z values of companies\n",
    "    Weeds out companies that are considered not to have \"failed\" in the past\n",
    "    \n",
    "    :param filename: an Excel file (.xlsx) containing a table of companies and\n",
    "                    their altmen z values according to dates\n",
    "    :type filename: str\n",
    "    :param sheet: Name of the sheet to extract from the file\n",
    "    :type sheet: str\n",
    "    :param failcond: a company which has ever had an alttman z value less than\n",
    "                    or equal to this number will be considered to have \"failed\"\n",
    "                    in the past\n",
    "    :type failcond: float\n",
    "    :param skipRows: a list of indexes, indicating which rows to skip from the\n",
    "                    top of the file\n",
    "    :type skipRows: list of int >= 0\n",
    "    :param naValues: values in the given table that are to be considered \"NaN\"\n",
    "    :type naValues: scalar, str, list-like, or dict, default None\n",
    "    \n",
    "    :returns: A Data Frame containing altman z values of  companies that have\n",
    "                \"failed\" in the past\n",
    "    :rtype: pandas.DataFrame\n",
    "    \n",
    "    Example:\n",
    "    >> getCompanyFailHistory(\"altman z_all(sheet1-2).xlsx\",\"Sheet1\", 1.8, [0,1,2,4,5],\n",
    "                             [\"#N/A N/A\", \"#N/A Review\"])\n",
    "    \"\"\"\n",
    "    data=getCompanyHistory(filename, sheet, skipRows, naValues)\n",
    "    data=weedSuccessful(data,failCond)\n",
    "    return data"
   ]
  }
 ],
 "metadata": {
  "kernelspec": {
   "display_name": "Python 3",
   "language": "python",
   "name": "python3"
  },
  "language_info": {
   "codemirror_mode": {
    "name": "ipython",
    "version": 3
   },
   "file_extension": ".py",
   "mimetype": "text/x-python",
   "name": "python",
   "nbconvert_exporter": "python",
   "pygments_lexer": "ipython3",
   "version": "3.8.3"
  }
 },
 "nbformat": 4,
 "nbformat_minor": 4
}
